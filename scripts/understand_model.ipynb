{
 "cells": [
  {
   "cell_type": "markdown",
   "metadata": {},
   "source": [
    "## Model"
   ]
  },
  {
   "cell_type": "code",
   "execution_count": null,
   "metadata": {},
   "outputs": [],
   "source": [
    "from prismatic.models import get_llm_backbone_and_tokenizer, get_vision_backbone_and_transform, get_vlm"
   ]
  },
  {
   "cell_type": "code",
   "execution_count": null,
   "metadata": {},
   "outputs": [],
   "source": [
    "vision_backbone, image_transform = get_vision_backbone_and_transform(\n",
    "        \"dinosiglip-vit-so-384px\", image_resize_strategy=\"resize-naive\"\n",
    "    )"
   ]
  },
  {
   "cell_type": "code",
   "execution_count": null,
   "metadata": {},
   "outputs": [],
   "source": [
    "llm_backbone, tokenizer = get_llm_backbone_and_tokenizer(\n",
    "        \"phi2_base\", llm_max_length=2048\n",
    "    )"
   ]
  },
  {
   "cell_type": "code",
   "execution_count": null,
   "metadata": {},
   "outputs": [],
   "source": [
    "vlm = get_vlm(\n",
    "    model_id = \"dino-siglip-phi2\",\n",
    "    arch_specifier = \"gelu-mlp\",\n",
    "    vision_backbone = vision_backbone,\n",
    "    llm_backbone = llm_backbone,\n",
    ")\n",
    "print(vlm.llm_backbone)"
   ]
  },
  {
   "cell_type": "code",
   "execution_count": null,
   "metadata": {},
   "outputs": [],
   "source": [
    "vlm.freeze_backbones(stage=\"finetune\")\n",
    "\n",
    "print(\"Total params = \",sum(p.numel() for p in vlm.parameters()))\n",
    "print(\"Trainable params = \",sum(p.numel() for p in vlm.parameters() if p.requires_grad))\n",
    "\n",
    "#       original\n",
    "# Total params =  3,519,119,543\n",
    "# Trainable params =  3,519,119,543\n",
    "\n",
    "#       align\n",
    "# Total params =  3,519,119,543\n",
    "# Trainable params =  12,129,280\n",
    "\n",
    "# \"finetune\" with LoRA ; commented the line # self.llm_backbone.requires_grad_(True) in prismatic.py\n",
    "# Total params =  3,521,740,983\n",
    "# Trainable params =  14,750,720"
   ]
  },
  {
   "cell_type": "code",
   "execution_count": null,
   "metadata": {},
   "outputs": [],
   "source": [
    "prompter = vlm.get_prompt_builder()\n",
    "prompter = PurePromptBuilder(model_family=\"phi2\")\n",
    "print(prompter.model_family, prompter.bos, prompter.eos, prompter.prompt, prompter.turn_count)"
   ]
  },
  {
   "cell_type": "code",
   "execution_count": 14,
   "metadata": {},
   "outputs": [
    {
     "name": "stdout",
     "output_type": "stream",
     "text": [
      "\n",
      " In: How many apples are in this picture?\n",
      "Out:  1\n",
      "\n",
      " In: How many apples are in this picture?\n",
      "Out: There are 10 apples.<|endoftext|> 2\n",
      "\n",
      " In: How many apples are in this picture?\n",
      "Out: There are 10 apples.<|endoftext|>In: How many oranges are in this picture?\n",
      "Out:  3\n",
      "\n",
      " In: How many apples are in this picture?\n",
      "Out: There are 10 apples.<|endoftext|>In: How many oranges are in this picture?\n",
      "Out:  <|endoftext|> 4\n"
     ]
    }
   ],
   "source": [
    "prompter.add_turn(\n",
    "    role = \"human\",\n",
    "    message = \"<image> How many apples are in this picture?\"\n",
    ")\n",
    "print(\"\\n\",prompter.prompt, prompter.turn_count)\n",
    "\n",
    "prompter.add_turn(\n",
    "    role = \"gpt\",\n",
    "    message = \"There are 10 apples.\"\n",
    ")\n",
    "print(\"\\n\",prompter.prompt, prompter.turn_count)\n",
    "\n",
    "prompter.add_turn(\n",
    "    role = \"human\",\n",
    "    message = \"<image> How many oranges are in this picture?\"\n",
    ")\n",
    "print(\"\\n\",prompter.prompt, prompter.turn_count)\n",
    "\n",
    "prompter.add_turn(\n",
    "    role = \"gpt\",\n",
    "    message = \"There are no oranges in this picture.\"\n",
    ")\n",
    "print(\"\\n\",prompter.prompt, prompter.turn_count)"
   ]
  }
 ],
 "metadata": {
  "kernelspec": {
   "display_name": "prismatic",
   "language": "python",
   "name": "python3"
  },
  "language_info": {
   "codemirror_mode": {
    "name": "ipython",
    "version": 3
   },
   "file_extension": ".py",
   "mimetype": "text/x-python",
   "name": "python",
   "nbconvert_exporter": "python",
   "pygments_lexer": "ipython3",
   "version": "3.10.13"
  }
 },
 "nbformat": 4,
 "nbformat_minor": 2
}
